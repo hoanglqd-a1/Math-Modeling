{
 "cells": [
  {
   "cell_type": "code",
   "execution_count": 1,
   "id": "d741898b",
   "metadata": {},
   "outputs": [],
   "source": [
    "import numpy as np\n",
    "import pandas as pd\n",
    "import gamspy as gp\n",
    "import sys\n",
    "from gamspy import Container, Set, Parameter, Variable, Equation, Model, Sum, Sense"
   ]
  },
  {
   "cell_type": "code",
   "execution_count": 3,
   "id": "17157f1a",
   "metadata": {},
   "outputs": [
    {
     "name": "stdout",
     "output_type": "stream",
     "text": [
      "[2 5 5 3 5 3 5 4]\n",
      "[5 4 7 6 6 4 4 7]\n"
     ]
    }
   ],
   "source": [
    "n = 8\n",
    "m = 5\n",
    "D1 = np.random.binomial(10, 0.5, n)\n",
    "D2 = np.random.binomial(10, 0.5, n)\n",
    "print(D1)\n",
    "print(D2)"
   ]
  },
  {
   "cell_type": "code",
   "execution_count": 62,
   "id": "6836cce7",
   "metadata": {},
   "outputs": [
    {
     "data": {
      "text/plain": [
       "array([-44, -47, -44, -45, -48, -47, -42, -46])"
      ]
     },
     "execution_count": 62,
     "metadata": {},
     "output_type": "execute_result"
    }
   ],
   "source": [
    "b = np.array([1, 2, 3, 4, 5])\n",
    "s = np.array([1, 1, 1, 1, 1])\n",
    "c = np.random.randint(low=-50, high=-40, size=8)\n",
    "c"
   ]
  },
  {
   "cell_type": "code",
   "execution_count": 63,
   "id": "7794a855",
   "metadata": {},
   "outputs": [
    {
     "data": {
      "text/plain": [
       "array([[0., 0., 1., 2., 2., 0., 2., 4.],\n",
       "       [3., 3., 2., 2., 4., 3., 0., 4.],\n",
       "       [2., 1., 4., 3., 4., 3., 3., 3.],\n",
       "       [0., 4., 1., 3., 4., 3., 2., 0.],\n",
       "       [3., 0., 2., 3., 2., 2., 4., 4.]])"
      ]
     },
     "execution_count": 63,
     "metadata": {},
     "output_type": "execute_result"
    }
   ],
   "source": [
    "matrix_A= np.zeros(m*n).reshape(m, n)\n",
    "for i in range(m):\n",
    "    for j in range(n):\n",
    "        matrix_A[i][j] = np.random.randint(5)\n",
    "matrix_A"
   ]
  },
  {
   "cell_type": "code",
   "execution_count": 64,
   "id": "c90d9d4f",
   "metadata": {},
   "outputs": [],
   "source": [
    "set_n = np.arange(n)\n",
    "set_m = np.arange(m)"
   ]
  },
  {
   "cell_type": "code",
   "execution_count": 65,
   "id": "f9186df3",
   "metadata": {},
   "outputs": [],
   "source": [
    "model = Container()\n",
    "i = Set(container=model, name='set_n', records=set_n)\n",
    "j = Set(container=model, name='set_m', records=set_m)"
   ]
  },
  {
   "cell_type": "code",
   "execution_count": 66,
   "id": "9d877a8b",
   "metadata": {},
   "outputs": [],
   "source": [
    "B = Parameter(\n",
    "        container=model,\n",
    "        name='b',\n",
    "        domain=j,\n",
    "        description='coefficient of objective function',\n",
    "        records=b,\n",
    ")"
   ]
  },
  {
   "cell_type": "code",
   "execution_count": 67,
   "id": "c8d49631",
   "metadata": {},
   "outputs": [
    {
     "data": {
      "text/html": [
       "<div>\n",
       "<style scoped>\n",
       "    .dataframe tbody tr th:only-of-type {\n",
       "        vertical-align: middle;\n",
       "    }\n",
       "\n",
       "    .dataframe tbody tr th {\n",
       "        vertical-align: top;\n",
       "    }\n",
       "\n",
       "    .dataframe thead th {\n",
       "        text-align: right;\n",
       "    }\n",
       "</style>\n",
       "<table border=\"1\" class=\"dataframe\">\n",
       "  <thead>\n",
       "    <tr style=\"text-align: right;\">\n",
       "      <th></th>\n",
       "      <th>set_m</th>\n",
       "      <th>value</th>\n",
       "    </tr>\n",
       "  </thead>\n",
       "  <tbody>\n",
       "    <tr>\n",
       "      <th>0</th>\n",
       "      <td>0</td>\n",
       "      <td>1.0</td>\n",
       "    </tr>\n",
       "    <tr>\n",
       "      <th>1</th>\n",
       "      <td>1</td>\n",
       "      <td>1.0</td>\n",
       "    </tr>\n",
       "    <tr>\n",
       "      <th>2</th>\n",
       "      <td>2</td>\n",
       "      <td>1.0</td>\n",
       "    </tr>\n",
       "    <tr>\n",
       "      <th>3</th>\n",
       "      <td>3</td>\n",
       "      <td>1.0</td>\n",
       "    </tr>\n",
       "    <tr>\n",
       "      <th>4</th>\n",
       "      <td>4</td>\n",
       "      <td>1.0</td>\n",
       "    </tr>\n",
       "  </tbody>\n",
       "</table>\n",
       "</div>"
      ],
      "text/plain": [
       "  set_m  value\n",
       "0     0    1.0\n",
       "1     1    1.0\n",
       "2     2    1.0\n",
       "3     3    1.0\n",
       "4     4    1.0"
      ]
     },
     "execution_count": 67,
     "metadata": {},
     "output_type": "execute_result"
    }
   ],
   "source": [
    "S = Parameter(\n",
    "    container=model,\n",
    "    name='S',\n",
    "    domain=j,\n",
    "    description='savage',\n",
    "    records=s,\n",
    ")\n",
    "S.records"
   ]
  },
  {
   "cell_type": "code",
   "execution_count": 68,
   "id": "b838bf8e",
   "metadata": {},
   "outputs": [
    {
     "data": {
      "text/html": [
       "<div>\n",
       "<style scoped>\n",
       "    .dataframe tbody tr th:only-of-type {\n",
       "        vertical-align: middle;\n",
       "    }\n",
       "\n",
       "    .dataframe tbody tr th {\n",
       "        vertical-align: top;\n",
       "    }\n",
       "\n",
       "    .dataframe thead th {\n",
       "        text-align: right;\n",
       "    }\n",
       "</style>\n",
       "<table border=\"1\" class=\"dataframe\">\n",
       "  <thead>\n",
       "    <tr style=\"text-align: right;\">\n",
       "      <th></th>\n",
       "      <th>set_n</th>\n",
       "      <th>value</th>\n",
       "    </tr>\n",
       "  </thead>\n",
       "  <tbody>\n",
       "    <tr>\n",
       "      <th>0</th>\n",
       "      <td>0</td>\n",
       "      <td>-44.0</td>\n",
       "    </tr>\n",
       "    <tr>\n",
       "      <th>1</th>\n",
       "      <td>1</td>\n",
       "      <td>-47.0</td>\n",
       "    </tr>\n",
       "    <tr>\n",
       "      <th>2</th>\n",
       "      <td>2</td>\n",
       "      <td>-44.0</td>\n",
       "    </tr>\n",
       "    <tr>\n",
       "      <th>3</th>\n",
       "      <td>3</td>\n",
       "      <td>-45.0</td>\n",
       "    </tr>\n",
       "    <tr>\n",
       "      <th>4</th>\n",
       "      <td>4</td>\n",
       "      <td>-48.0</td>\n",
       "    </tr>\n",
       "    <tr>\n",
       "      <th>5</th>\n",
       "      <td>5</td>\n",
       "      <td>-47.0</td>\n",
       "    </tr>\n",
       "    <tr>\n",
       "      <th>6</th>\n",
       "      <td>6</td>\n",
       "      <td>-42.0</td>\n",
       "    </tr>\n",
       "    <tr>\n",
       "      <th>7</th>\n",
       "      <td>7</td>\n",
       "      <td>-46.0</td>\n",
       "    </tr>\n",
       "  </tbody>\n",
       "</table>\n",
       "</div>"
      ],
      "text/plain": [
       "  set_n  value\n",
       "0     0  -44.0\n",
       "1     1  -47.0\n",
       "2     2  -44.0\n",
       "3     3  -45.0\n",
       "4     4  -48.0\n",
       "5     5  -47.0\n",
       "6     6  -42.0\n",
       "7     7  -46.0"
      ]
     },
     "execution_count": 68,
     "metadata": {},
     "output_type": "execute_result"
    }
   ],
   "source": [
    "C = Parameter(\n",
    "    container=model,\n",
    "    name='C',\n",
    "    domain=i,\n",
    "    description='C',\n",
    "    records=c,\n",
    ")\n",
    "C.records"
   ]
  },
  {
   "cell_type": "code",
   "execution_count": 69,
   "id": "0e9b7187",
   "metadata": {},
   "outputs": [],
   "source": [
    "d1 = Parameter(\n",
    "        container=model,\n",
    "        name='d1',\n",
    "        domain=i,\n",
    "        description='demand_1',\n",
    "        records=D1,\n",
    ")\n",
    "d2 = Parameter(\n",
    "        container=model,\n",
    "        name='d2',\n",
    "        domain=i,\n",
    "        description='demand_2',\n",
    "        records=D2,\n",
    ")"
   ]
  },
  {
   "cell_type": "code",
   "execution_count": 70,
   "id": "a926e308",
   "metadata": {},
   "outputs": [],
   "source": [
    "A = Parameter(\n",
    "        container=model,\n",
    "        name=\"A\",\n",
    "        domain=[j, i],\n",
    "        description=\"matrix A\",\n",
    "        records=matrix_A,\n",
    ")"
   ]
  },
  {
   "cell_type": "code",
   "execution_count": 71,
   "id": "bdac04e5",
   "metadata": {},
   "outputs": [],
   "source": [
    "x = Variable(\n",
    "        container=model,\n",
    "        name=\"x\",\n",
    "        domain=j,\n",
    "        type=\"Positive\",\n",
    "        description=\"x_decision variable\",\n",
    ")\n",
    "y1 = Variable(\n",
    "        container=model,\n",
    "        name='y1',\n",
    "        domain=j,\n",
    "        type='Positive',\n",
    "        description='y1_decision variable',\n",
    ")\n",
    "y2 = Variable(\n",
    "        container=model,\n",
    "        name='y2',\n",
    "        domain=j,\n",
    "        type='Positive',\n",
    "        description='y2_decision variable',\n",
    ")\n",
    "z1 = Variable(\n",
    "        container=model,\n",
    "        name='z1',\n",
    "        domain=i,\n",
    "        type='Positive',\n",
    "        description='z1_decision variable',\n",
    ")\n",
    "z2 = Variable(\n",
    "        container=model,\n",
    "        name='z2',\n",
    "        domain=i,\n",
    "        type='Positive',\n",
    "        description='z2_decision variable',\n",
    ")"
   ]
  },
  {
   "cell_type": "code",
   "execution_count": 72,
   "id": "d1b56f32",
   "metadata": {},
   "outputs": [],
   "source": [
    "z1_ctr = Equation(\n",
    "        container=model, name=\"z1_constraints\", domain=i, description=\"z1ctr\"\n",
    ")\n",
    "z1_ctr[i] = z1[i] <= d1[i]\n",
    "z2_ctr = Equation(\n",
    "        container=model, name=\"z2_constraints\", domain=i, description=\"z2ctr\"\n",
    ")\n",
    "z2_ctr[i] = z2[i] <= d2[i]\n",
    "y1_ctr = Equation(\n",
    "        container=model, name=\"y1_constraints\", domain=j, description=\"c1ctr\"\n",
    ")\n",
    "y1_ctr[j] = y1[j] == x[j] - Sum(i, A[j, i]*z1[i])\n",
    "y2_ctr = Equation(\n",
    "        container=model, name=\"y2_constraints\", domain=j, description=\"c2ctr\"\n",
    ")\n",
    "y2_ctr[j] = y2[j] == x[j] - Sum(i, A[j, i]*z2[i])"
   ]
  },
  {
   "cell_type": "code",
   "execution_count": 73,
   "id": "e938b10e",
   "metadata": {},
   "outputs": [],
   "source": [
    "obj = Sum(j, B[j]*x[j]) + 0.5*(Sum(i, C[i] * z1[i]) - Sum(j, S[j] * y1[j])) + 0.5*(Sum(i, C[i] * z2[i]) - Sum(j, S[j] * y2[j]))"
   ]
  },
  {
   "cell_type": "code",
   "execution_count": 74,
   "id": "5e6c3d18",
   "metadata": {},
   "outputs": [
    {
     "name": "stdout",
     "output_type": "stream",
     "text": [
      "--- Job _job_e6250a27-4861-4b11-9ccb-1becf1dc9acf.gms Start 11/24/23 21:22:19 45.3.0 c4c31d8a WEX-WEI x86 64bit/MS Windows\n",
      "--- Applying:\n",
      "    C:\\Users\\Admin\\AppData\\Roaming\\Python\\Python311\\site-packages\\gamspy_base\\gmsprmNT.txt\n",
      "--- GAMS Parameters defined\n",
      "    LP CPLEX\n",
      "    MIP CPLEX\n",
      "    RMIP CPLEX\n",
      "    NLP CONOPT\n",
      "    MCP PATH\n",
      "    MPEC NLPEC\n",
      "    RMPEC CONVERT\n",
      "    CNS CONOPT\n",
      "    DNLP CONOPT\n",
      "    RMINLP CONOPT\n",
      "    MINLP SBB\n",
      "    QCP CONOPT\n",
      "    MIQCP SBB\n",
      "    RMIQCP CONOPT\n",
      "    EMP CONVERT\n",
      "    Input C:\\Users\\Admin\\AppData\\Local\\Temp\\tmpurs6xlpk\\_job_e6250a27-4861-4b11-9ccb-1becf1dc9acf.gms\n",
      "    Output C:\\Users\\Admin\\AppData\\Local\\Temp\\tmpurs6xlpk\\_job_e6250a27-4861-4b11-9ccb-1becf1dc9acf.lst\n",
      "    Save C:\\Users\\Admin\\AppData\\Local\\Temp\\tmpurs6xlpk\\_save_b6dad25e-db59-4d4c-bc0e-7c4c8a4df067.g00\n",
      "    ScrDir C:\\Users\\Admin\\AppData\\Local\\Temp\\tmpurs6xlpk\\225a\\\n",
      "    SysDir C:\\Users\\Admin\\AppData\\Roaming\\Python\\Python311\\site-packages\\gamspy_base\\\n",
      "    CurDir C:\\Users\\Admin\\AppData\\Local\\Temp\\tmpurs6xlpk\\\n",
      "    LogOption 3\n",
      "    LogFile C:\\Users\\Admin\\AppData\\Local\\Temp\\tmpurs6xlpk\\_job_e6250a27-4861-4b11-9ccb-1becf1dc9acf.log\n",
      "Licensee: GAMS Demo license for Le Phuc Hoang            G231118|0002CO-GEN\n",
      "          Ho Chi Minh University of Technology Vietnam National UniDL100678\n",
      "          C:\\Users\\Admin\\Documents\\GAMS\\gamslice.txt\n",
      "          hoang.lephuc2004@hcmut.edu.vn, Le Phuc Hoang                     \n",
      "          Demo license for demonstration and instructional purposes only\n",
      "Processor information: 1 socket(s), 12 core(s), and 16 thread(s) available\n",
      "GAMS 45.3.0   Copyright (C) 1987-2023 GAMS Development. All rights reserved\n",
      "--- Starting compilation\n",
      "--- _job_e6250a27-4861-4b11-9ccb-1becf1dc9acf.gms(3) 2 Mb\n",
      "--- GDXin=C:\\Users\\Admin\\AppData\\Local\\Temp\\tmpurs6xlpk\\_gdx_in_b6dad25e-db59-4d4c-bc0e-7c4c8a4df067.gdx\n",
      "--- GDX File ($gdxIn) C:\\Users\\Admin\\AppData\\Local\\Temp\\tmpurs6xlpk\\_gdx_in_b6dad25e-db59-4d4c-bc0e-7c4c8a4df067.gdx\n",
      "--- _job_e6250a27-4861-4b11-9ccb-1becf1dc9acf.gms(139) 3 Mb\n",
      "--- Starting execution: elapsed 0:00:00.042\n",
      "--- Generating LP model linear_programming\n",
      "--- _job_e6250a27-4861-4b11-9ccb-1becf1dc9acf.gms(48) 4 Mb\n",
      "---   27 rows  32 columns  134 non-zeroes\n",
      "--- Range statistics (absolute non-zero finite values)\n",
      "--- RHS       [min, max] : [ 2.000E+00, 7.000E+00] - Zero values observed as well\n",
      "--- Bound     [min, max] : [        NA,        NA] - Zero values observed as well\n",
      "--- Matrix    [min, max] : [ 5.000E-01, 2.400E+01]\n",
      "--- Executing CPLEX (Solvelink=2): elapsed 0:00:00.099\n",
      "\n",
      "IBM ILOG CPLEX   45.3.0 c4c31d8a Nov 11, 2023          WEI x86 64bit/MS Window\n",
      "\n",
      "*** This solver runs with a demo license. No commercial use.\n",
      "--- GMO setup time: 0.00s\n",
      "--- GMO memory 0.50 Mb (peak 0.50 Mb)\n",
      "--- Dictionary memory 0.00 Mb\n",
      "--- Cplex 22.1.1.0 link memory 0.00 Mb (peak 0.00 Mb)\n",
      "--- Starting Cplex\n",
      "\n",
      "Version identifier: 22.1.1.0 | 2022-11-27 | 9160aff4d\n",
      "CPXPARAM_Advance                                 0\n",
      "CPXPARAM_Threads                                 1\n",
      "CPXPARAM_MIP_Display                             4\n",
      "CPXPARAM_MIP_Pool_Capacity                       0\n",
      "CPXPARAM_MIP_Tolerances_AbsMIPGap                0\n",
      "Tried aggregator 1 time.\n",
      "LP Presolve eliminated 17 rows and 6 columns.\n",
      "Aggregator did 5 substitutions.\n",
      "Reduced LP has 4 rows, 21 columns, and 54 nonzeros.\n",
      "Presolve time = 0.00 sec. (0.03 ticks)\n",
      "\n",
      "Iteration log . . .\n",
      "Iteration:     1   Dual infeasibility =             1.500000\n",
      "Iteration:     5   Dual objective     =          -512.000000\n",
      "\n",
      "--- LP status (1): optimal.\n",
      "--- Cplex Time: 0.00sec (det. 0.06 ticks)\n",
      "\n",
      "\n",
      "Optimal solution found\n",
      "Objective:         -305.625000\n",
      "\n",
      "--- Reading solution for model linear_programming\n",
      "--- Executing after solve: elapsed 0:00:00.140\n",
      "--- _job_e6250a27-4861-4b11-9ccb-1becf1dc9acf.gms(139) 4 Mb\n",
      "--- GDX File (execute_unload) C:\\Users\\Admin\\AppData\\Local\\Temp\\tmpurs6xlpk\\_gdx_out_b6dad25e-db59-4d4c-bc0e-7c4c8a4df067.gdx\n",
      "*** Status: Normal completion\n",
      "--- Job _job_e6250a27-4861-4b11-9ccb-1becf1dc9acf.gms Stop 11/24/23 21:22:19 elapsed 0:00:00.143\n"
     ]
    },
    {
     "data": {
      "text/plain": [
       "-305.625"
      ]
     },
     "execution_count": 74,
     "metadata": {},
     "output_type": "execute_result"
    }
   ],
   "source": [
    "transport = Model(\n",
    "        model,\n",
    "        name=\"linear_programming\",\n",
    "        equations=[z1_constraints, z2_constraints, y1_constraints, y2_constraints],\n",
    "        problem=\"LP\",\n",
    "        sense=Sense.MIN,\n",
    "        objective=obj,\n",
    ")   \n",
    "transport.solve(output=sys.stdout)\n",
    "transport.objective_value"
   ]
  },
  {
   "cell_type": "code",
   "execution_count": null,
   "id": "bef98fae",
   "metadata": {},
   "outputs": [],
   "source": []
  }
 ],
 "metadata": {
  "kernelspec": {
   "display_name": "Python 3 (ipykernel)",
   "language": "python",
   "name": "python3"
  },
  "language_info": {
   "codemirror_mode": {
    "name": "ipython",
    "version": 3
   },
   "file_extension": ".py",
   "mimetype": "text/x-python",
   "name": "python",
   "nbconvert_exporter": "python",
   "pygments_lexer": "ipython3",
   "version": "3.11.5"
  }
 },
 "nbformat": 4,
 "nbformat_minor": 5
}
